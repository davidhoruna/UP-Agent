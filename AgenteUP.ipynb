{
  "cells": [
    {
      "cell_type": "code",
      "execution_count": 2,
      "metadata": {
        "collapsed": true,
        "id": "2F-ShpjCYQr9"
      },
      "outputs": [],
      "source": [
        "\n"
      ]
    },
    {
      "cell_type": "code",
      "execution_count": 1,
      "metadata": {
        "id": "w8VGwhHoVFe5"
      },
      "outputs": [
        {
          "ename": "NameError",
          "evalue": "name 'Optional' is not defined",
          "output_type": "error",
          "traceback": [
            "\u001b[1;31m---------------------------------------------------------------------------\u001b[0m",
            "\u001b[1;31mNameError\u001b[0m                                 Traceback (most recent call last)",
            "Cell \u001b[1;32mIn[1], line 1\u001b[0m\n\u001b[1;32m----> 1\u001b[0m \u001b[38;5;28;43;01mclass\u001b[39;49;00m\u001b[38;5;250;43m \u001b[39;49m\u001b[38;5;21;43;01mDocumentStore\u001b[39;49;00m\u001b[43m:\u001b[49m\n\u001b[0;32m      2\u001b[0m \u001b[38;5;250;43m    \u001b[39;49m\u001b[38;5;124;43;03m\"\"\"Clase para manejar el almacenamiento y recuperación de documentos\"\"\"\u001b[39;49;00m\n\u001b[0;32m      4\u001b[0m \u001b[43m    \u001b[49m\u001b[38;5;28;43;01mdef\u001b[39;49;00m\u001b[38;5;250;43m \u001b[39;49m\u001b[38;5;21;43m__init__\u001b[39;49m\u001b[43m(\u001b[49m\u001b[38;5;28;43mself\u001b[39;49m\u001b[43m,\u001b[49m\u001b[43m \u001b[49m\u001b[43mdb_path\u001b[49m\u001b[43m:\u001b[49m\u001b[43m \u001b[49m\u001b[38;5;28;43mstr\u001b[39;49m\u001b[43m \u001b[49m\u001b[38;5;241;43m=\u001b[39;49m\u001b[43m \u001b[49m\u001b[38;5;124;43m\"\u001b[39;49m\u001b[38;5;124;43mdocument_store.db\u001b[39;49m\u001b[38;5;124;43m\"\u001b[39;49m\u001b[43m)\u001b[49m\u001b[43m:\u001b[49m\n",
            "Cell \u001b[1;32mIn[1], line 27\u001b[0m, in \u001b[0;36mDocumentStore\u001b[1;34m()\u001b[0m\n\u001b[0;32m     24\u001b[0m         logger\u001b[38;5;241m.\u001b[39merror(\u001b[38;5;124mf\u001b[39m\u001b[38;5;124m\"\u001b[39m\u001b[38;5;124mError initializing database: \u001b[39m\u001b[38;5;132;01m{\u001b[39;00me\u001b[38;5;132;01m}\u001b[39;00m\u001b[38;5;124m\"\u001b[39m)\n\u001b[0;32m     25\u001b[0m         \u001b[38;5;28;01mraise\u001b[39;00m\n\u001b[1;32m---> 27\u001b[0m \u001b[38;5;28;01mdef\u001b[39;00m\u001b[38;5;250m \u001b[39m\u001b[38;5;21mstore_document\u001b[39m(\u001b[38;5;28mself\u001b[39m, filename: \u001b[38;5;28mstr\u001b[39m, content: \u001b[38;5;28mstr\u001b[39m, embedding_path: \u001b[43mOptional\u001b[49m[\u001b[38;5;28mstr\u001b[39m] \u001b[38;5;241m=\u001b[39m \u001b[38;5;28;01mNone\u001b[39;00m):\n\u001b[0;32m     28\u001b[0m \u001b[38;5;250m    \u001b[39m\u001b[38;5;124;03m\"\"\"Almacena un documento en la base de datos\"\"\"\u001b[39;00m\n\u001b[0;32m     29\u001b[0m     \u001b[38;5;28;01mtry\u001b[39;00m:\n",
            "\u001b[1;31mNameError\u001b[0m: name 'Optional' is not defined"
          ]
        }
      ],
      "source": [
        " \n"
      ]
    },
    {
      "cell_type": "code",
      "execution_count": 12,
      "metadata": {},
      "outputs": [
        {
          "name": "stderr",
          "output_type": "stream",
          "text": [
            "2025-01-12 08:23:22,025 - __main__ - INFO - Loaded regulation PDF: ../pdfs\\Lenguaje II - 120006 - D (2025-00-PRE)(1).pdf\n",
            "2025-01-12 08:23:22,634 - __main__ - INFO - Loaded regulation PDF: ../pdfs\\ReglamentodeEstudiosdePregrado.pdf\n",
            "2025-01-12 08:23:23,029 - __main__ - INFO - Loaded regulation PDF: ../pdfs\\Silabo_EGII_2025-00_-_Todas_las_secciones[1].pdf\n",
            "2025-01-12 08:23:28,217 - httpx - INFO - HTTP Request: POST https://api.openai.com/v1/embeddings \"HTTP/1.1 200 OK\"\n",
            "2025-01-12 08:23:29,099 - __main__ - INFO - Regulation vector store initialized successfully\n",
            "2025-01-12 08:23:29,759 - __main__ - INFO - Bot inicializado con reglamentos universitarios\n"
          ]
        },
        {
          "name": "stdout",
          "output_type": "stream",
          "text": [
            "¡Hola! Soy Agente UP.\n",
            "Puedo ayudarte a encontrar y entender información específica de los reglamentos.\n",
            "Escribe 'salir' para terminar.\n",
            "\n",
            "\n",
            "\u001b[1m> Entering new AgentExecutor chain...\u001b[0m\n"
          ]
        },
        {
          "name": "stderr",
          "output_type": "stream",
          "text": [
            "2025-01-12 08:24:08,494 - httpx - INFO - HTTP Request: POST https://api.openai.com/v1/chat/completions \"HTTP/1.1 200 OK\"\n"
          ]
        },
        {
          "name": "stdout",
          "output_type": "stream",
          "text": [
            "\u001b[32;1m\u001b[1;3mThought: Do I need to use a tool? No\n",
            "AI: Para encontrar las fechas de evaluación en el sílabo de Lenguaje II, necesitarías acceder al documento del sílabo específico de tu curso. Generalmente, los sílabos se proporcionan al inicio del curso por el profesor o se pueden encontrar en la plataforma educativa que utilice tu institución (como Blackboard, Canvas, Moodle, entre otras). Si no tienes acceso directo al sílabo o no puedes encontrar esta información en línea, te recomiendo contactar directamente a tu profesor o al departamento académico correspondiente. Ellos podrán proporcionarte el sílabo actualizado o la información específica sobre las fechas de evaluación.\u001b[0m\n",
            "\n",
            "\u001b[1m> Finished chain.\u001b[0m\n",
            "\n",
            "Bot: Para encontrar las fechas de evaluación en el sílabo de Lenguaje II, necesitarías acceder al documento del sílabo específico de tu curso. Generalmente, los sílabos se proporcionan al inicio del curso por el profesor o se pueden encontrar en la plataforma educativa que utilice tu institución (como Blackboard, Canvas, Moodle, entre otras). Si no tienes acceso directo al sílabo o no puedes encontrar esta información en línea, te recomiendo contactar directamente a tu profesor o al departamento académico correspondiente. Ellos podrán proporcionarte el sílabo actualizado o la información específica sobre las fechas de evaluación.\n",
            "\n",
            "\n",
            "\u001b[1m> Entering new AgentExecutor chain...\u001b[0m\n"
          ]
        },
        {
          "name": "stderr",
          "output_type": "stream",
          "text": [
            "2025-01-12 08:24:28,183 - httpx - INFO - HTTP Request: POST https://api.openai.com/v1/chat/completions \"HTTP/1.1 200 OK\"\n"
          ]
        },
        {
          "name": "stdout",
          "output_type": "stream",
          "text": [
            "\u001b[32;1m\u001b[1;3mThought: Do I need to use a tool? No\n",
            "AI: Lo siento, pero actualmente no tengo la capacidad de acceder a documentos externos o específicos de cursos, como sílabos. Mi diseño se basa en proporcionar información y asistencia basada en el conocimiento general y las capacidades de procesamiento de texto que he sido entrenado para entender. Para obtener información específica como las fechas de evaluación en el sílabo de Lenguaje II, te recomendaría seguir los pasos que te mencioné anteriormente.\u001b[0m\n",
            "\n",
            "\u001b[1m> Finished chain.\u001b[0m\n",
            "\n",
            "Bot: Lo siento, pero actualmente no tengo la capacidad de acceder a documentos externos o específicos de cursos, como sílabos. Mi diseño se basa en proporcionar información y asistencia basada en el conocimiento general y las capacidades de procesamiento de texto que he sido entrenado para entender. Para obtener información específica como las fechas de evaluación en el sílabo de Lenguaje II, te recomendaría seguir los pasos que te mencioné anteriormente.\n",
            "\n",
            "\n",
            "\u001b[1m> Entering new AgentExecutor chain...\u001b[0m\n"
          ]
        },
        {
          "name": "stderr",
          "output_type": "stream",
          "text": [
            "2025-01-12 08:24:49,523 - httpx - INFO - HTTP Request: POST https://api.openai.com/v1/chat/completions \"HTTP/1.1 200 OK\"\n"
          ]
        },
        {
          "name": "stdout",
          "output_type": "stream",
          "text": [
            "\u001b[32;1m\u001b[1;3mThought: Do I need to use a tool? No\n",
            "AI: ¿Cómo puedo asistirte hoy? Si tienes alguna otra pregunta o necesitas ayuda con un tema diferente, estoy aquí para ayudarte.\u001b[0m\n",
            "\n",
            "\u001b[1m> Finished chain.\u001b[0m\n",
            "\n",
            "Bot: ¿Cómo puedo asistirte hoy? Si tienes alguna otra pregunta o necesitas ayuda con un tema diferente, estoy aquí para ayudarte.\n",
            "\n",
            "Bot: Gracias por consultar los reglamentos. ¡Hasta luego!\n"
          ]
        }
      ],
      "source": []
    },
    {
      "cell_type": "code",
      "execution_count": null,
      "metadata": {},
      "outputs": [],
      "source": [
        "import streamlit as st\n",
        "# Initialize session state\n",
        "\n",
        "if \"agent\" not in st.session_state:\n",
        "    st.session_state.agent = UPAgent(os.getenv(\"OPENAI_API_KEY\"))\n",
        "if \"messages\" not in st.session_state:\n",
        "    st.session_state.messages = []\n",
        "\n",
        "# Display chat messages\n",
        "for message in st.session_state.messages:\n",
        "    with st.chat_message(message[\"role\"]):\n",
        "        st.markdown(message[\"content\"])\n",
        "\n",
        "# Chat input\n",
        "if prompt := st.chat_input(\"Ask a question\"):\n",
        "    st.session_state.messages.append({\"role\": \"user\", \"content\": prompt})\n",
        "    with st.chat_message(\"user\"):\n",
        "        st.markdown(prompt)\n",
        "    \n",
        "    with st.chat_message(\"assistant\"):\n",
        "        response = st.session_state.agent.query(prompt)\n",
        "        st.markdown(response)\n",
        "    st.session_state.messages.append({\"role\": \"assistant\", \"content\": response})\n",
        "\n",
        "# Sidebar - PDF file uploader\n",
        "with st.sidebar:\n",
        "    st.header(\"Upload PDFs\")\n",
        "    uploaded_files = st.file_uploader(\"Upload your PDFs\", accept_multiple_files=True, type='pdf')\n",
        "    \n",
        "    if uploaded_files:\n",
        "        for file in uploaded_files:\n",
        "            with open(f\"pdfs/{file.name}\", \"wb\") as f:\n",
        "                f.write(file.getvalue())\n",
        "        st.success(\"PDFs uploaded successfully! Please refresh the page.\")\n",
        "\n",
        "    st.header(\"Options\")\n",
        "    if st.button(\"Clear Conversation\"):\n",
        "        st.session_state.messages = []\n",
        "        st.rerun()"
      ]
    }
  ],
  "metadata": {
    "colab": {
      "provenance": []
    },
    "kernelspec": {
      "display_name": "up-agent",
      "language": "python",
      "name": "python3"
    },
    "language_info": {
      "codemirror_mode": {
        "name": "ipython",
        "version": 3
      },
      "file_extension": ".py",
      "mimetype": "text/x-python",
      "name": "python",
      "nbconvert_exporter": "python",
      "pygments_lexer": "ipython3",
      "version": "3.13.1"
    }
  },
  "nbformat": 4,
  "nbformat_minor": 0
}
