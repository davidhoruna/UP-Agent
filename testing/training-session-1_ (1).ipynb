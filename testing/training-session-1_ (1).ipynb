{
 "cells": [
  {
   "cell_type": "markdown",
   "metadata": {},
   "source": [
    "## Libraries"
   ]
  },
  {
   "cell_type": "code",
   "execution_count": 7,
   "metadata": {},
   "outputs": [],
   "source": [
    "import json\n",
    "import boto3\n",
    "from botocore.exceptions import ClientError\n",
    "import warnings\n",
    "warnings.filterwarnings(\"ignore\")\n",
    "\n",
    "import os\n",
    "os.environ[\"KMP_DUPLICATE_LIB_OK\"]=\"TRUE\""
   ]
  },
  {
   "cell_type": "markdown",
   "metadata": {},
   "source": [
    "## Initialize Resourcers"
   ]
  },
  {
   "cell_type": "code",
   "execution_count": null,
   "metadata": {},
   "outputs": [],
   "source": [
    "def get_secret(secret_id, secret_key):\n",
    "    return secret[secret_key]"
   ]
  },
  {
   "cell_type": "code",
   "execution_count": null,
   "metadata": {},
   "outputs": [],
   "source": [
    "chat_api_key = get_secret(\"product-dev\", \"GPT35_API_KEY\")\n",
    "chat_api_endpoint = get_secret(\"product-dev\", \"GPT35_API_BASE\")\n",
    "\n",
    "embed_api_key = get_secret(\"product-dev\", \"EMBEDDING_API_KEY\")\n",
    "embed_api_endpoint = get_secret(\"product-dev\", \"EMBEDDING_API_BASE\")"
   ]
  },
  {
   "cell_type": "markdown",
   "metadata": {},
   "source": [
    "## Endpoint and API Keys from GenAI Marketplace"
   ]
  },
  {
   "cell_type": "code",
   "execution_count": 4,
   "metadata": {},
   "outputs": [],
   "source": [
    "from langchain_openai import AzureOpenAIEmbeddings\n",
    "from langchain_openai import AzureChatOpenAI\n",
    "\n",
    "## LLM openai\n",
    "# Chat Completion\n",
    "model = AzureChatOpenAI(azure_endpoint=chat_api_endpoint,\n",
    "    api_key=chat_api_key,\n",
    "    api_version=\"2023-05-15\",\n",
    "    azure_deployment=\"gpt-35-turbo-16k\",\n",
    "    temperature=0\n",
    ")\n",
    "\n",
    "# Embeddings\n",
    "embeddings = AzureOpenAIEmbeddings(\n",
    "    azure_endpoint=embed_api_endpoint,\n",
    "    api_key=embed_api_key,\n",
    ")"
   ]
  },
  {
   "cell_type": "code",
   "execution_count": 5,
   "metadata": {},
   "outputs": [
    {
     "name": "stdout",
     "output_type": "stream",
     "text": [
      "client=<openai.resources.chat.completions.Completions object at 0x000002EFD7CE4C10> async_client=<openai.resources.chat.completions.AsyncCompletions object at 0x000002EFD8918090> root_client=<openai.lib.azure.AzureOpenAI object at 0x000002EFD89B18D0> root_async_client=<openai.lib.azure.AsyncAzureOpenAI object at 0x000002EFD8951F50> temperature=0.0 model_kwargs={} openai_api_key=SecretStr('**********') disabled_params={'parallel_tool_calls': None} azure_endpoint='https://genaiapimna.jnj.com/openai-chat' deployment_name='gpt-35-turbo-16k' openai_api_version='2023-05-15' openai_api_type='azure'\n"
     ]
    }
   ],
   "source": [
    "print(model)"
   ]
  },
  {
   "cell_type": "code",
   "execution_count": 6,
   "metadata": {},
   "outputs": [
    {
     "data": {
      "text/plain": [
       "AIMessage(content='Claro, aquí tienes uno:\\n\\n¿Qué hace una abeja en el gimnasio?\\n\\n¡Zum-ba!', additional_kwargs={'refusal': None}, response_metadata={'token_usage': {'completion_tokens': 26, 'prompt_tokens': 15, 'total_tokens': 41, 'completion_tokens_details': None, 'prompt_tokens_details': None}, 'model_name': 'gpt-35-turbo-16k', 'system_fingerprint': None, 'finish_reason': 'stop', 'logprobs': None, 'content_filter_results': {}}, id='run-3e8e9893-c57e-4fb1-bc4c-1009545cec42-0', usage_metadata={'input_tokens': 15, 'output_tokens': 26, 'total_tokens': 41, 'input_token_details': {}, 'output_token_details': {}})"
      ]
     },
     "execution_count": 6,
     "metadata": {},
     "output_type": "execute_result"
    }
   ],
   "source": [
    "from langchain_core.messages import SystemMessage\n",
    "\n",
    "messages = [\n",
    "    SystemMessage(content=\"Cuentame un chiste para niños\")\n",
    "]\n",
    "\n",
    "model.invoke(messages)"
   ]
  },
  {
   "cell_type": "markdown",
   "metadata": {},
   "source": [
    "## Chains and Output parser"
   ]
  },
  {
   "cell_type": "code",
   "execution_count": 7,
   "metadata": {},
   "outputs": [
    {
     "name": "stdout",
     "output_type": "stream",
     "text": [
      "Claro, aquí tienes uno:\n",
      "\n",
      "¿Qué hace una abeja en el gimnasio?\n",
      "\n",
      "¡Zum-ba!\n"
     ]
    }
   ],
   "source": [
    "from langchain_core.output_parsers import StrOutputParser\n",
    "\n",
    "parser = StrOutputParser()\n",
    "\n",
    "messages = [\n",
    "    SystemMessage(content=\"Cuentame un chiste para niños\")\n",
    "]\n",
    "\n",
    "# with chains:\n",
    "chain = model | parser\n",
    "print(chain.invoke(messages))\n"
   ]
  },
  {
   "cell_type": "markdown",
   "metadata": {},
   "source": [
    "## Knowledge cutoffs"
   ]
  },
  {
   "cell_type": "code",
   "execution_count": 8,
   "metadata": {},
   "outputs": [
    {
     "name": "stdout",
     "output_type": "stream",
     "text": [
      "Donald Trump não foi condenado criminalmente durante seu mandato como presidente dos Estados Unidos. No entanto, ele enfrentou dois processos de impeachment na Câmara dos Representantes em 2019 e 2021, mas foi absolvido pelo Senado em ambas as ocasiões.\n"
     ]
    }
   ],
   "source": [
    "messages = [\n",
    "    SystemMessage(content=\"Quando foi o Donald trump condenado?\")\n",
    "]\n",
    "chain = model | parser\n",
    "print(chain.invoke(messages))"
   ]
  },
  {
   "cell_type": "markdown",
   "metadata": {},
   "source": [
    "## Hallucinations"
   ]
  },
  {
   "cell_type": "code",
   "execution_count": 9,
   "metadata": {},
   "outputs": [
    {
     "name": "stdout",
     "output_type": "stream",
     "text": [
      "1. \"Neuroplasticity and Homeschooling: Exploring the Impact of Individualized Education on Brain Development\" by Sarah Johnson and Emily Thompson. This paper examines the relationship between homeschooling and neuroplasticity, exploring how individualized education in a homeschooling environment can potentially enhance brain development and promote neuroplasticity.\n",
      "\n",
      "2. \"The Effects of Homeschooling on Neuroplasticity: A Review of Current Research\" by Michael Davis and Jennifer Smith. This review paper provides an overview of current research on the effects of homeschooling on neuroplasticity. It discusses the potential benefits of homeschooling in promoting neuroplasticity and highlights the need for further investigation in this area.\n",
      "\n",
      "3. \"Neuroplasticity and Homeschooling: A Case Study Approach\" by Laura Miller and Mark Wilson. This paper presents a case study approach to examine the relationship between homeschooling and neuroplasticity. It explores the experiences of homeschooling families and their impact on brain development, highlighting the potential role of neuroplasticity in homeschooling success.\n",
      "\n",
      "4. \"Neuroplasticity and Homeschooling: An Experimental Study\" by John Anderson and Rebecca Thompson. This experimental study investigates the impact of homeschooling on neuroplasticity using neuroimaging techniques. It examines changes in brain structure and function in homeschooled children compared to traditionally schooled children, providing insights into the potential neuroplastic effects of homeschooling.\n",
      "\n",
      "5. \"Neuroplasticity and Homeschooling: A Longitudinal Study\" by Jessica Brown and David Wilson. This longitudinal study explores the relationship between homeschooling and neuroplasticity over an extended period. It examines changes in brain development and cognitive abilities in homeschooled children over time, shedding light on the long-term effects of homeschooling on neuroplasticity.\n",
      "\n",
      "Please note that the availability of these specific papers may vary, and access to them may require a subscription or purchase.\n"
     ]
    }
   ],
   "source": [
    "messages = [\n",
    "    SystemMessage(content=\"Give me some papers on the relationship between homeschooling and neuroplasticity\")\n",
    "]\n",
    "chain = model | parser\n",
    "print(chain.invoke(messages))"
   ]
  },
  {
   "cell_type": "markdown",
   "metadata": {},
   "source": [
    "## ChatPromptTemplate \n",
    "System + User templates "
   ]
  },
  {
   "cell_type": "code",
   "execution_count": 10,
   "metadata": {},
   "outputs": [
    {
     "name": "stdout",
     "output_type": "stream",
     "text": [
      "Ciao!\n"
     ]
    }
   ],
   "source": [
    "\n",
    "from langchain_core.messages import HumanMessage, SystemMessage\n",
    "from langchain_core.prompts import ChatPromptTemplate\n",
    "\n",
    "\n",
    "system_template = \"Translate the following into {language}:\"\n",
    "user_template = \"{text}\"\n",
    "\n",
    "prompt_template = ChatPromptTemplate.from_messages(\n",
    "    [(\"system\", system_template), \n",
    "     (\"user\", user_template)\n",
    "     ]\n",
    ")\n",
    "\n",
    "chain = prompt_template | model | parser\n",
    "\n",
    "print(chain.invoke({\"language\": \"italian\", \"text\": \"hi!\"}))\n"
   ]
  },
  {
   "cell_type": "markdown",
   "metadata": {},
   "source": [
    "## Chatbot"
   ]
  },
  {
   "cell_type": "code",
   "execution_count": 12,
   "metadata": {},
   "outputs": [],
   "source": [
    "\n",
    "from langchain_core.prompts import ChatPromptTemplate, MessagesPlaceholder\n",
    "\n",
    "\n",
    "system_template = \"You are a helpful assistant. Answer all questions to the best of your ability.\"\n",
    "prompt = ChatPromptTemplate.from_messages(\n",
    "    [ (\"system\", system_template,),\n",
    "        MessagesPlaceholder(variable_name=\"messages\"),\n",
    "    ]\n",
    ")\n",
    "\n",
    "chain = prompt | model | parser\n",
    "\n",
    "\n",
    "chat_history_chain = [HumanMessage(content=\"Hey there! I'm Nemo.\"),\n",
    " SystemMessage(content='Hello!'),\n",
    " HumanMessage(content='what is my name?')]"
   ]
  },
  {
   "cell_type": "code",
   "execution_count": 13,
   "metadata": {},
   "outputs": [
    {
     "name": "stdout",
     "output_type": "stream",
     "text": [
      "Your name is Nemo.\n"
     ]
    }
   ],
   "source": [
    "\n",
    "print(chain.invoke({\"messages\": chat_history_chain}))"
   ]
  },
  {
   "cell_type": "markdown",
   "metadata": {},
   "source": [
    "## Summarization"
   ]
  },
  {
   "cell_type": "code",
   "execution_count": 14,
   "metadata": {},
   "outputs": [
    {
     "name": "stdout",
     "output_type": "stream",
     "text": [
      "0 El juguete de panda es suave y lindo, pero un poco pequeño para el precio. Llegó antes de lo esperado. \n",
      "\n",
      "1 Lámpara con almacenamiento adicional, buen precio y excelente servicio al cliente. \n",
      "\n",
      "2 El cepillo de dientes eléctrico tiene una buena duración de batería, pero la cabeza es demasiado pequeña. Bueno por $50. \n",
      "\n",
      "3 El sistema de 17 piezas estaba en oferta en noviembre, pero los precios subieron en diciembre. La calidad ha disminuido y el motor se dañó después de un año. \n",
      "\n"
     ]
    }
   ],
   "source": [
    "review_1 = \"\"\"\n",
    "Got this panda plush toy for my daughter's birthday, \\\n",
    "who loves it and takes it everywhere. It's soft and \\ \n",
    "super cute, and its face has a friendly look. It's \\ \n",
    "a bit small for what I paid though. I think there \\ \n",
    "might be other options that are bigger for the \\ \n",
    "same price. It arrived a day earlier than expected, \\ \n",
    "so I got to play with it myself before I gave it \\ \n",
    "to her.\n",
    "\"\"\"\n",
    "\n",
    "review_2 = \"\"\"\n",
    "Needed a nice lamp for my bedroom, and this one \\\n",
    "had additional storage and not too high of a price \\\n",
    "point. Got it fast - arrived in 2 days. The string \\\n",
    "to the lamp broke during the transit and the company \\\n",
    "happily sent over a new one. Came within a few days \\\n",
    "as well. It was easy to put together. Then I had a \\\n",
    "missing part, so I contacted their support and they \\\n",
    "very quickly got me the missing piece! Seems to me \\\n",
    "to be a great company that cares about their customers \\\n",
    "and products. \n",
    "\"\"\"\n",
    "\n",
    "review_3 = \"\"\"\n",
    "My dental hygienist recommended an electric toothbrush, \\\n",
    "which is why I got this. The battery life seems to be \\\n",
    "pretty impressive so far. After initial charging and \\\n",
    "leaving the charger plugged in for the first week to \\\n",
    "condition the battery, I've unplugged the charger and \\\n",
    "been using it for twice daily brushing for the last \\\n",
    "3 weeks all on the same charge. But the toothbrush head \\\n",
    "is too small. I’ve seen baby toothbrushes bigger than \\\n",
    "this one. I wish the head was bigger with different \\\n",
    "length bristles to get between teeth better because \\\n",
    "this one doesn’t.  Overall if you can get this one \\\n",
    "around the $50 mark, it's a good deal. The manufactuer's \\\n",
    "replacements heads are pretty expensive, but you can \\\n",
    "get generic ones that're more reasonably priced. This \\\n",
    "toothbrush makes me feel like I've been to the dentist \\\n",
    "every day. My teeth feel sparkly clean! \n",
    "\"\"\"\n",
    "\n",
    "\n",
    "review_4 = \"\"\"\n",
    "So, they still had the 17 piece system on seasonal \\\n",
    "sale for around $49 in the month of November, about \\\n",
    "half off, but for some reason (call it price gouging) \\\n",
    "around the second week of December the prices all went \\\n",
    "up to about anywhere from between $70-$89 for the same \\\n",
    "system. And the 11 piece system went up around $10 or \\\n",
    "so in price also from the earlier sale price of $29. \\\n",
    "So it looks okay, but if you look at the base, the part \\\n",
    "where the blade locks into place doesn’t look as good \\\n",
    "as in previous editions from a few years ago, but I \\\n",
    "plan to be very gentle with it (example, I crush \\\n",
    "very hard items like beans, ice, rice, etc. in the \\ \n",
    "blender first then pulverize them in the serving size \\\n",
    "I want in the blender then switch to the whipping \\\n",
    "blade for a finer flour, and use the cross cutting blade \\\n",
    "first when making smoothies, then use the flat blade \\\n",
    "if I need them finer/less pulpy). Special tip when making \\\n",
    "smoothies, finely cut and freeze the fruits and \\\n",
    "vegetables (if using spinach-lightly stew soften the \\ \n",
    "spinach then freeze until ready for use-and if making \\\n",
    "sorbet, use a small to medium sized food processor) \\ \n",
    "that you plan to use that way you can avoid adding so \\\n",
    "much ice if at all-when making your smoothie. \\\n",
    "After about a year, the motor was making a funny noise. \\\n",
    "I called customer service but the warranty expired \\\n",
    "already, so I had to buy another one. FYI: The overall \\\n",
    "quality has gone done in these types of products, so \\\n",
    "they are kind of counting on brand recognition and \\\n",
    "consumer loyalty to maintain sales. Got it in about \\\n",
    "two days.\n",
    "\"\"\"\n",
    "\n",
    "reviews = [review_1, review_2, review_3, review_4]\n",
    "\n",
    "prompt = \"\"\"\n",
    "    Your task is to generate a short summary of a product \\ \n",
    "    review from an ecommerce site. \n",
    "\n",
    "    Summarize the review below, delimited by triple \\\n",
    "    backticks in at most 20 words and in Spanish. \n",
    "\n",
    "    Review: ```{review}```\n",
    "    \"\"\"\n",
    "\n",
    "prompt_template = ChatPromptTemplate.from_messages([\n",
    "    (\"system\", prompt)\n",
    "    ])\n",
    "\n",
    "\n",
    "for i in range(len(reviews)):\n",
    "    inputs={\"review\":reviews[i]}\n",
    "    prompt_template.format_messages(**inputs)\n",
    "    \n",
    "    chain = prompt_template | model | parser\n",
    "\n",
    "    response = chain.invoke(inputs)\n",
    "    print(i, response, \"\\n\")\n"
   ]
  },
  {
   "cell_type": "code",
   "execution_count": 15,
   "metadata": {},
   "outputs": [
    {
     "name": "stdout",
     "output_type": "stream",
     "text": [
      "0 La reseña es positiva. El juguete de panda es suave y lindo, pero un poco pequeño para el precio. Llegó antes de lo esperado. \n",
      "\n",
      "1 Neutral: La lámpara tiene almacenamiento adicional y un precio razonable. El servicio al cliente es excelente. \n",
      "\n",
      "2 El revisor está satisfecho con la duración de la batería, pero no le gusta el tamaño de la cabeza del cepillo. En general, considera que es una buena oferta. Positivo. \n",
      "\n",
      "3 El revisor menciona que el precio del sistema aumentó después de la venta, pero la calidad ha disminuido. Neutral. \n",
      "\n"
     ]
    }
   ],
   "source": [
    "prompt = \"\"\"\n",
    "    Your task is to generate a short summary of a product \\ \n",
    "    review from an ecommerce site. \n",
    "\n",
    "    Summarize the review below, delimited by triple \\\n",
    "    backticks in at most 20 words, also specify if the review is positive, negative or neutral. \n",
    "    Give the answers in Spanish. \n",
    "\n",
    "    Review: ```{review}```\n",
    "    \"\"\"\n",
    "\n",
    "prompt_template = ChatPromptTemplate.from_messages([\n",
    "    (\"system\", prompt)\n",
    "    ])\n",
    "\n",
    "\n",
    "for i in range(len(reviews)):\n",
    "    inputs={\"review\":reviews[i]}\n",
    "    prompt_template.format_messages(**inputs)\n",
    "    \n",
    "    chain = prompt_template | model | parser\n",
    "\n",
    "    response = chain.invoke(inputs)\n",
    "    print(i, response, \"\\n\")\n"
   ]
  }
 ],
 "metadata": {
  "kernelspec": {
   "display_name": "vtest1",
   "language": "python",
   "name": "python3"
  },
  "language_info": {
   "codemirror_mode": {
    "name": "ipython",
    "version": 3
   },
   "file_extension": ".py",
   "mimetype": "text/x-python",
   "name": "python",
   "nbconvert_exporter": "python",
   "pygments_lexer": "ipython3",
   "version": "3.11.5"
  }
 },
 "nbformat": 4,
 "nbformat_minor": 2
}
